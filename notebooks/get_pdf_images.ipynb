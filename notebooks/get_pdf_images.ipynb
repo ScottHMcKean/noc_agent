{
 "cells": [
  {
   "cell_type": "code",
   "execution_count": 1,
   "metadata": {},
   "outputs": [],
   "source": [
    "# Specify the path to your PDF file\n",
    "pdf_path = \"../data/12-583-x2021001-eng.pdf\"\n",
    "\n",
    "from pdf2image import convert_from_path\n",
    "\n",
    "# Convert PDF to images\n",
    "images = convert_from_path(pdf_path, dpi=300)\n",
    "\n",
    "# Save images\n",
    "for i, image in enumerate(images):\n",
    "    image.save(f'../data/images/{i + 1}.webp', 'WEBP')"
   ]
  }
 ],
 "metadata": {
  "kernelspec": {
   "display_name": ".venv",
   "language": "python",
   "name": "python3"
  },
  "language_info": {
   "codemirror_mode": {
    "name": "ipython",
    "version": 3
   },
   "file_extension": ".py",
   "mimetype": "text/x-python",
   "name": "python",
   "nbconvert_exporter": "python",
   "pygments_lexer": "ipython3",
   "version": "3.12.9"
  }
 },
 "nbformat": 4,
 "nbformat_minor": 2
}
