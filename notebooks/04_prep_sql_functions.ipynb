{
 "cells": [
  {
   "cell_type": "markdown",
   "metadata": {
    "application/vnd.databricks.v1+cell": {
     "cellMetadata": {},
     "inputWidgets": {},
     "nuid": "8a5e5c19-c7df-414f-9478-8251b41dd930",
     "showTitle": false,
     "tableResultSettingsMap": {},
     "title": ""
    }
   },
   "source": [
    "## Vector Search\n",
    "We need to take our deployed vector search and prepare a documented tool for Agent usage"
   ]
  },
  {
   "cell_type": "code",
   "execution_count": 0,
   "metadata": {
    "application/vnd.databricks.v1+cell": {
     "cellMetadata": {
      "byteLimit": 2048000,
      "implicitDf": true,
      "rowLimit": 10000
     },
     "inputWidgets": {},
     "nuid": "9e4d90df-f0e2-4788-b248-262c72cdafe4",
     "showTitle": false,
     "tableResultSettingsMap": {},
     "title": ""
    }
   },
   "outputs": [],
   "source": [
    "%sql\n",
    "CREATE OR REPLACE FUNCTION shm.noc_agent.vector_search(\n",
    "  occupation_description STRING\n",
    ")\n",
    "RETURNS TABLE (\n",
    "  noc_result STRING\n",
    ")\n",
    "COMMENT 'Returns the National Occupational Classification (NOC) code for the provided occupation description. Format the input to include the best broad category from the following list:\n",
    "\n",
    "0 Legislative and senior management occupations\n",
    "1 Business, finance and administration occupations\n",
    "2 Natural and applied sciences and related occupations\n",
    "3 Health occupations\n",
    "4 Occupations in education, law and social, community and government services\n",
    "5 Occupations in art, culture, recreation and sport\n",
    "6 Sales and service occupations\n",
    "7 Trades, transport and equipment operators and related occupations\n",
    "8 Natural resources, agriculture and related production occupations\n",
    "9 Occupations in manufacturing and utilities\n",
    "\n",
    "The response will provide the categories, groups, and pages from the NOC guidance.\n",
    "'\n",
    "RETURN\n",
    "SELECT \n",
    "CONCAT(\n",
    "  'Broad Category: ', COALESCE(h1, ''),  \n",
    "  '\\n Major Group: ', COALESCE(h2, 'None'), \n",
    "  '\\n Sub Group: ', COALESCE(h3, 'None'), \n",
    "  '\\n Minor Group: ', COALESCE(h4, 'None'), \n",
    "  '\\n Unit Group: ', COALESCE(h5, 'None'), \n",
    "  '\\n Pages:', pages\n",
    ") as noc_result\n",
    "FROM vector_search(\n",
    "  index=>'shm.noc_agent.noc_index',\n",
    "  query_text=>occupation_description,\n",
    "  num_results=>5\n",
    ")"
   ]
  },
  {
   "cell_type": "code",
   "execution_count": 0,
   "metadata": {
    "application/vnd.databricks.v1+cell": {
     "cellMetadata": {
      "byteLimit": 2048000,
      "implicitDf": true,
      "rowLimit": 10000
     },
     "inputWidgets": {},
     "nuid": "71d73b82-db9f-4975-8a8d-91ed965faf56",
     "showTitle": false,
     "tableResultSettingsMap": {},
     "title": ""
    }
   },
   "outputs": [],
   "source": [
    "%sql\n",
    "SELECT * FROM shm.noc_agent.vector_search('Petroleum Engineer')"
   ]
  },
  {
   "cell_type": "markdown",
   "metadata": {
    "application/vnd.databricks.v1+cell": {
     "cellMetadata": {},
     "inputWidgets": {},
     "nuid": "13f51a27-1983-442f-9f94-4cb6f036b650",
     "showTitle": false,
     "tableResultSettingsMap": {},
     "title": ""
    }
   },
   "source": [
    "## Employment By Occupation"
   ]
  },
  {
   "cell_type": "markdown",
   "metadata": {
    "application/vnd.databricks.v1+cell": {
     "cellMetadata": {},
     "inputWidgets": {},
     "nuid": "4b6c43ad-02d5-4925-b158-9582a04e0164",
     "showTitle": false,
     "tableResultSettingsMap": {},
     "title": ""
    }
   },
   "source": [
    "This notebook preps four functions for analyzing tables based on retrieved national occupational classication"
   ]
  },
  {
   "cell_type": "code",
   "execution_count": 0,
   "metadata": {
    "application/vnd.databricks.v1+cell": {
     "cellMetadata": {
      "byteLimit": 2048000,
      "implicitDf": true,
      "rowLimit": 10000
     },
     "inputWidgets": {},
     "nuid": "1aacee3d-0885-4d02-a980-910699f23ed6",
     "showTitle": false,
     "tableResultSettingsMap": {},
     "title": ""
    }
   },
   "outputs": [],
   "source": [
    "%sql\n",
    "SELECT * \n",
    "FROM shm.noc_agent.monthly_adjusted_employment_by_occupation\n",
    "LIMIT 10"
   ]
  },
  {
   "cell_type": "code",
   "execution_count": 0,
   "metadata": {
    "application/vnd.databricks.v1+cell": {
     "cellMetadata": {
      "byteLimit": 2048000,
      "implicitDf": true,
      "rowLimit": 10000
     },
     "inputWidgets": {},
     "nuid": "c3ad8bc3-abc1-4296-bd3c-064d87f4c1b6",
     "showTitle": false,
     "tableResultSettingsMap": {},
     "title": ""
    }
   },
   "outputs": [],
   "source": [
    "%sql\n",
    "CREATE OR REPLACE FUNCTION shm.noc_agent.get_occupation_employment(\n",
    "  occupation_name STRING,\n",
    "  months_lookback INT DEFAULT 6\n",
    ")\n",
    "RETURNS TABLE (\n",
    "  date_year_month STRING,\n",
    "  noc_title STRING,\n",
    "  employees_thousands DOUBLE\n",
    ")\n",
    "COMMENT 'Returns monthly adjusted employment data for occupations matching the provided occupation name. The occupation MUST be a value from the following list, matched based on occupation type, including bracketed numbers ([72-75]):\n",
    "\n",
    "Health occupations, except management [31-33]\n",
    "Business, finance and administration occupations, except management [11-14]\n",
    "Trades, transport and equipment operators and related occupations, except management [72-75]\n",
    "Management occupations [00,10,20,30,40,50,60,70,80,90]\n",
    "Natural resources, agriculture and related production occupations, except management [82-85]\n",
    "Natural and applied sciences and related occupations, except management [21-22]\n",
    "Occupations in art, culture, recreation and sport, except management [51-55]\n",
    "Sales and service occupations, except management [62-65]\n",
    "Total employed, all occupations [00-95]\n",
    "Occupations in manufacturing and utilities, except management [92-95]\n",
    "Occupations in education, law and social, community and government services, except management [41-45]\n",
    "'\n",
    "RETURN\n",
    "SELECT\n",
    "  ref_date as date_year_month,\n",
    "  national_occupational_classification_noc as noc_title,\n",
    "  value as employees_thousands\n",
    "FROM shm.noc_agent.monthly_adjusted_employment_by_occupation\n",
    "WHERE statistics = 'Estimate'\n",
    "AND national_occupational_classification_noc = occupation_name\n",
    "AND to_date(ref_date) >= date_sub(current_date(), CAST((months_lookback+1)*30 AS INT))"
   ]
  },
  {
   "cell_type": "markdown",
   "metadata": {
    "application/vnd.databricks.v1+cell": {
     "cellMetadata": {},
     "inputWidgets": {},
     "nuid": "7d44a534-1868-414f-971e-3a9fefcde4c2",
     "showTitle": false,
     "tableResultSettingsMap": {},
     "title": ""
    }
   },
   "source": [
    "## Hours and Wages"
   ]
  },
  {
   "cell_type": "code",
   "execution_count": 0,
   "metadata": {
    "application/vnd.databricks.v1+cell": {
     "cellMetadata": {
      "byteLimit": 2048000,
      "implicitDf": true,
      "rowLimit": 10000
     },
     "inputWidgets": {},
     "nuid": "a26418f1-6478-4df5-b786-20be56229e3d",
     "showTitle": false,
     "tableResultSettingsMap": {},
     "title": ""
    }
   },
   "outputs": [],
   "source": [
    "%sql\n",
    "CREATE OR REPLACE FUNCTION shm.noc_agent.get_occupation_wages(\n",
    "  occupation_name STRING,\n",
    "  months_lookback INT DEFAULT 6\n",
    ")\n",
    "RETURNS TABLE (\n",
    "  date_year_month STRING,\n",
    "  noc_title STRING,\n",
    "  weekly_wages DOUBLE\n",
    ")\n",
    "COMMENT 'Returns average weekly wages for occupations matching the provided occupation name. The occupation MUST be a value from the following list, matched based on occupation type, including bracketed numbers ([72-75]):\n",
    "\n",
    "Health occupations, except management [31-33]\n",
    "Business, finance and administration occupations, except management [11-14]\n",
    "Trades, transport and equipment operators and related occupations, except management [72-75]\n",
    "Management occupations [00,10,20,30,40,50,60,70,80,90]\n",
    "Natural resources, agriculture and related production occupations, except management [82-85]\n",
    "Natural and applied sciences and related occupations, except management [21-22]\n",
    "Occupations in art, culture, recreation and sport, except management [51-55]\n",
    "Sales and service occupations, except management [62-65]\n",
    "Total employed, all occupations [00-95]\n",
    "Occupations in manufacturing and utilities, except management [92-95]\n",
    "Occupations in education, law and social, community and government services, except management [41-45]\n",
    "'\n",
    "RETURN\n",
    "SELECT\n",
    "  ref_date as date_year_month,\n",
    "  characteristics as noc_title,\n",
    "  value as employees_thousands\n",
    "FROM shm.noc_agent.monthly_hours_and_wages\n",
    "WHERE characteristics REGEXP '\\\\['\n",
    "AND hours_and_wages = 'Full-time employees, average weekly wages'\n",
    "AND characteristics = occupation_name\n",
    "AND to_date(ref_date) >= date_sub(current_date(), CAST((months_lookback+1)*30 AS INT))"
   ]
  },
  {
   "cell_type": "code",
   "execution_count": 0,
   "metadata": {
    "application/vnd.databricks.v1+cell": {
     "cellMetadata": {
      "byteLimit": 2048000,
      "implicitDf": true,
      "rowLimit": 10000
     },
     "inputWidgets": {},
     "nuid": "61541893-4c70-4ebb-b8ca-69d8f218e46d",
     "showTitle": false,
     "tableResultSettingsMap": {},
     "title": ""
    }
   },
   "outputs": [],
   "source": [
    "%sql\n",
    "SELECT * FROM shm.noc_agent.get_occupation_wages(\n",
    "  'Health occupations, except management [31-33]', 48\n",
    "  )"
   ]
  },
  {
   "cell_type": "markdown",
   "metadata": {
    "application/vnd.databricks.v1+cell": {
     "cellMetadata": {},
     "inputWidgets": {},
     "nuid": "edff4efd-cf34-4c0e-a09b-056b051f046a",
     "showTitle": false,
     "tableResultSettingsMap": {},
     "title": ""
    }
   },
   "source": [
    "## What's Next?\n",
    "We have two harder tables where there is a mix of categories (Job Tenure By Occupation and Monthly Labour Force Characteristics). In order to use these tables, we might need to do some data augmentation and use AI based matching to quickly prepare the table. We could also use Levenshtein Distance to do fuzzy matching based on edit distance from the third level heading."
   ]
  },
  {
   "cell_type": "code",
   "execution_count": 0,
   "metadata": {
    "application/vnd.databricks.v1+cell": {
     "cellMetadata": {
      "byteLimit": 2048000,
      "implicitDf": true,
      "rowLimit": 10000
     },
     "inputWidgets": {},
     "nuid": "0c33e687-e236-473e-9e76-602a0bbbc967",
     "showTitle": false,
     "tableResultSettingsMap": {},
     "title": ""
    }
   },
   "outputs": [],
   "source": [
    "%sql\n",
    "SELECT DISTINCT(national_occupational_classification_noc)\n",
    "FROM shm.noc_agent.monthly_job_tenure_by_occupation\n",
    "LIMIT 20"
   ]
  },
  {
   "cell_type": "code",
   "execution_count": 0,
   "metadata": {
    "application/vnd.databricks.v1+cell": {
     "cellMetadata": {
      "byteLimit": 2048000,
      "implicitDf": true,
      "rowLimit": 10000
     },
     "inputWidgets": {},
     "nuid": "2b1198a6-17ba-4637-aca2-0c57c951bba0",
     "showTitle": false,
     "tableResultSettingsMap": {},
     "title": ""
    }
   },
   "outputs": [],
   "source": [
    "%sql\n",
    "SELECT DISTINCT(national_occupational_classification_noc)\n",
    "FROM shm.noc_agent.monthly_labour_force_characteristics\n",
    "LIMIT 20"
   ]
  }
 ],
 "metadata": {
  "application/vnd.databricks.v1+notebook": {
   "computePreferences": null,
   "dashboards": [],
   "environmentMetadata": {
    "base_environment": "",
    "environment_version": "2"
   },
   "language": "python",
   "notebookMetadata": {
    "mostRecentlyExecutedCommandWithImplicitDF": {
     "commandId": 3244118383151302,
     "dataframes": [
      "_sqldf"
     ]
    },
    "pythonIndentUnit": 2
   },
   "notebookName": "04_prep_sql_functions",
   "widgets": {}
  },
  "language_info": {
   "name": "python"
  }
 },
 "nbformat": 4,
 "nbformat_minor": 0
}
