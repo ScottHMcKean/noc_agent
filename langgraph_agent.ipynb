{
 "cells": [
  {
   "cell_type": "code",
   "execution_count": 1,
   "metadata": {},
   "outputs": [],
   "source": [
    "from pathlib import Path\n",
    "import os\n",
    "\n",
    "root_dir = Path(os.getcwd())\n",
    "config_path = root_dir / 'agent' / 'config.yaml'"
   ]
  },
  {
   "cell_type": "code",
   "execution_count": 2,
   "metadata": {},
   "outputs": [],
   "source": [
    "# load config\n",
    "import mlflow\n",
    "from src.config import parse_config\n",
    "\n",
    "mlflow_config = mlflow.models.ModelConfig(development_config=config_path)\n",
    "config = parse_config(mlflow_config)"
   ]
  },
  {
   "cell_type": "code",
   "execution_count": 3,
   "metadata": {},
   "outputs": [
    {
     "name": "stdout",
     "output_type": "stream",
     "text": [
      "[NOTICE] Using a notebook authentication token. Recommended for development only. For improved performance, please use Service Principal based authentication. To disable this message, pass disable_notice=True to VectorSearchClient().\n"
     ]
    }
   ],
   "source": [
    "from src.retriever import get_vector_retriever\n",
    "retriever = get_vector_retriever(config)\n",
    "\n",
    "from databricks_langchain import ChatDatabricks\n",
    "model = ChatDatabricks(endpoint=config.model.endpoint_name)"
   ]
  },
  {
   "cell_type": "markdown",
   "metadata": {},
   "source": [
    "We are going to use Langchain's ReAct Agent with Tools"
   ]
  },
  {
   "cell_type": "code",
   "execution_count": 4,
   "metadata": {},
   "outputs": [],
   "source": [
    "from databricks_langchain.uc_ai import (\n",
    "    DatabricksFunctionClient,\n",
    "    UCFunctionToolkit,\n",
    "    set_uc_function_client,\n",
    ")\n",
    "\n",
    "client = DatabricksFunctionClient()\n",
    "set_uc_function_client(client)\n",
    "\n",
    "tools = UCFunctionToolkit(\n",
    "    function_names=[\n",
    "        \"shm.noc_agent.vector_search\",\n",
    "        \"shm.noc_agent.get_occupation_employment\",\n",
    "        \"shm.noc_agent.get_occupation_wages\"\n",
    "        ]\n",
    ").tools"
   ]
  },
  {
   "cell_type": "code",
   "execution_count": 5,
   "metadata": {},
   "outputs": [],
   "source": [
    "from langgraph.prebuilt import create_react_agent\n",
    "agent = create_react_agent(model, tools, prompt=config.agent.prompt)"
   ]
  },
  {
   "cell_type": "code",
   "execution_count": 14,
   "metadata": {},
   "outputs": [],
   "source": [
    "input_example = {'messages':[\n",
    "    {\n",
    "        'type':'user', \n",
    "        'content':'I am haul truck driver in oil and gas, give me a report on my occupation over the past 12 months'\n",
    "    }\n",
    "]}"
   ]
  },
  {
   "cell_type": "code",
   "execution_count": 15,
   "metadata": {},
   "outputs": [
    {
     "name": "stderr",
     "output_type": "stream",
     "text": [
      "/Users/scott.mckean/Repos/noc_agent/.venv/lib/python3.12/site-packages/unitycatalog/ai/core/databricks.py:713: UserWarning: The following parameters do not have descriptions: occupation_description for the function shm.noc_agent.vector_search. Using Unity Catalog functions that do not have parameter descriptions limits the functionality for an LLM to understand how to call your function. To improve tool calling accuracy, provide verbose parameter descriptions that fully explain what the expected usage of the function arguments are.\n",
      "  check_function_info(function_info)\n",
      "/Users/scott.mckean/Repos/noc_agent/.venv/lib/python3.12/site-packages/unitycatalog/ai/core/databricks.py:713: UserWarning: The following parameters do not have descriptions: occupation_name, months_lookback for the function shm.noc_agent.get_occupation_employment. Using Unity Catalog functions that do not have parameter descriptions limits the functionality for an LLM to understand how to call your function. To improve tool calling accuracy, provide verbose parameter descriptions that fully explain what the expected usage of the function arguments are.\n",
      "  check_function_info(function_info)\n",
      "/Users/scott.mckean/Repos/noc_agent/.venv/lib/python3.12/site-packages/unitycatalog/ai/core/databricks.py:713: UserWarning: The following parameters do not have descriptions: occupation_name, months_lookback for the function shm.noc_agent.get_occupation_wages. Using Unity Catalog functions that do not have parameter descriptions limits the functionality for an LLM to understand how to call your function. To improve tool calling accuracy, provide verbose parameter descriptions that fully explain what the expected usage of the function arguments are.\n",
      "  check_function_info(function_info)\n"
     ]
    }
   ],
   "source": [
    "from src.utils import react_agent_to_chat_response\n",
    "from langchain_core.runnables import RunnableLambda\n",
    "\n",
    "chain = agent | RunnableLambda(react_agent_to_chat_response)\n",
    "output = chain.invoke(input_example)"
   ]
  },
  {
   "cell_type": "markdown",
   "metadata": {},
   "source": [
    "## What our App needs to display at the end"
   ]
  },
  {
   "cell_type": "code",
   "execution_count": 17,
   "metadata": {},
   "outputs": [
    {
     "data": {
      "text/markdown": [
       "## Occupation Report: Haul Truck Driver in Oil and Gas\n",
       "### Occupation Description\n",
       "Based on the National Occupational Classification (NOC) system, a haul truck driver in the oil and gas industry falls under the category of \"Trades, transport and equipment operators and related occupations, except management [72-75]\". This category includes various occupations related to transportation, equipment operation, and maintenance.\n",
       "\n",
       "### Employment Data\n",
       "Over the past 12 months, the employment data for \"Trades, transport and equipment operators and related occupations, except management [72-75]\" has shown a relatively stable trend. The number of employees in this category has fluctuated between 3127.4 thousand in March 2024 and 3208.9 thousand in October 2024. The most recent data point available is for February 2025, with 3121.9 thousand employees.\n",
       "\n",
       "### Wage Data\n",
       "The average weekly wages for \"Trades, transport and equipment operators and related occupations, except management [72-75]\" have also shown a stable trend over the past 12 months. The average weekly wages have ranged from $1346.84 in July 2024 to $1387.24 in September 2024. The most recent data point available is for February 2025, with an average weekly wage of $1384.97.\n",
       "\n",
       "### Conclusion\n",
       "In conclusion, the occupation of haul truck driver in the oil and gas industry is classified under the NOC category of \"Trades, transport and equipment operators and related occupations, except management [72-75]\". The employment data for this category has shown a relatively stable trend over the past 12 months, with a range of 3127.4 thousand to 3208.9 thousand employees. The average weekly wages for this category have also been stable, ranging from $1346.84 to $1387.24. As of February 2025, the average weekly wage for this occupation is $1384.97."
      ],
      "text/plain": [
       "<IPython.core.display.Markdown object>"
      ]
     },
     "metadata": {},
     "output_type": "display_data"
    }
   ],
   "source": [
    "from IPython.display import Markdown, display\n",
    "display(Markdown(output['choices'][0]['message']['content']))"
   ]
  }
 ],
 "metadata": {
  "kernelspec": {
   "display_name": "Python 3",
   "language": "python",
   "name": "python3"
  },
  "language_info": {
   "codemirror_mode": {
    "name": "ipython",
    "version": 3
   },
   "file_extension": ".py",
   "mimetype": "text/x-python",
   "name": "python",
   "nbconvert_exporter": "python",
   "pygments_lexer": "ipython3",
   "version": "3.12.6"
  }
 },
 "nbformat": 4,
 "nbformat_minor": 2
}
